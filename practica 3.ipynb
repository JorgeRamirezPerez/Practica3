{
 "cells": [
  {
   "cell_type": "markdown",
   "metadata": {},
   "source": [
    "# PRACTICA 3 Orientación de Antenas Parabólicas\n",
    "## Electrónica Aeroespacial \n",
    "### Jorge Luis Ramirez Perez \n",
    "\n",
    "## Objetivo General: \n",
    "\n",
    "\n",
    "Orientar una antena parabólica para localizar y comunicarse con los satelites Hispasat 30W y Astra 19,2 E usando un medidor de campo (EP313) en la ciudad de Granada España. \n",
    "\n",
    "\n",
    "## Objetivos secundarios: \n",
    "\n",
    "\n",
    "- Reforzar el cálculo de la elevación y azimut para satélites geoestacionarios.\n",
    "- Instalación de un reflector parabólico tipo offset\n",
    "- Conexión del LNB (Low Noise Block) y orientación hacia los satélites Astra (19,2º este), Hispasat (30º oeste) \n",
    "- Uso del Medidor de Campo para orientación de la antena, ajuste del LNB y medida de los parámetros de señal para emisiones de TV Analógica y Digital.\n",
    "- Programación de la Configuración del Medidor de Campo para la sintonización de las señales elegidas.\n",
    "- Configuración de las diferentes polaridades y bandas mediante el medidor de campo.\n",
    "- Realización de un vídeo para mostrar la actividad realizada.\n",
    "\n",
    "\n",
    "## Materiales: \n",
    "\n",
    "**Disponble en el Laboratorio:**\n",
    "- Soporte a pared para la antena parabólica.\n",
    "\n",
    "- Antena parabólica con LNB simple\n",
    "<img src='antena.jpg'>\n",
    "<img src='conector.jpg'>\n",
    "\n",
    "\n",
    "- Cable coaxial y conectores F\n",
    "<img src='coaxial.jpg'>\n",
    "\n",
    "\n",
    "- Medidor de Campo EP 313\n",
    "<img src='campo.jpg'>\n",
    "\n",
    "\n",
    "\n",
    "## Hallar distancia Focal de la antena\n",
    "\n",
    "Para hallar la distancia focal de una antena es necesario implementar las siguientes formulas:\n",
    "\n",
    "- $ DistF= ancho^{3}/(16*prof*alto) $\n",
    "\n",
    "- $ a= 2*DistF*(((alto/2)/(ancho/2))^2-1)^{0,5} $\n",
    "\n",
    "- $ d1= (((a+(ancho/2))^2)/(4*DistF))+DistF $\n",
    "\n",
    "- $ d2= ((((a-(ancho/2))^2))/(4*DistF))+DistF $\n",
    "\n",
    "los valores que debemos conocer  de la antena para poder encontrar los valores de las formulas son:\n",
    "\n",
    "- Profundidad\n",
    "\n",
    "- Ancho\n",
    "\n",
    "- Alto\n",
    "\n",
    "Tambien es necesario encontrar el **ángulo offset** de la siguiente manera: \n",
    "\n",
    "- $AnguloOffset= ArcCoseno (Ancho/Alto)$\n",
    "\n",
    "**Lobulo Principal hasta el valor -10 dB:**\n",
    "\n",
    "- $LP= (ArcCoseno (( 2 * distanciafocal/d1) -1)) - (ArCoseno (( 2 * distanciafocal/d2) -1 ))$\n",
    "\n",
    "**calculo de la inclinación del LNB respecto a la horizontal:**\n",
    "\n",
    "- $IL= 0.5 * (ArCoseno (( 2 * distanciafocal/d1) -1)) + (ArCoseno (( 2 * distanciafocal/d2) -1 ))$\n",
    "\n",
    "**F/D equivalente:**\n",
    "\n",
    "- $FD= 1 / (4 * TANG( 0.5 * LobuloPrincipal/2))$\n",
    "\n",
    "**Lobulo de apertura:**\n",
    "\n",
    "- $LAp= 175/DiametroMenor [cm]$\n",
    "\n",
    "\n",
    "De esta forma es posible calcular el punto focal de la antena para conectar el LNB en donde deberia estar recibiendo la mayor cantidad de información de la antena parabólica. \n",
    "\n",
    "<img src='antenaoffset.jpg'>\n",
    "\n",
    "En la práctica usamos la antena amarilla mostrada anteriormente la cual ya estaba configurada con el LNBF de manera que pudimos recibir la señal analógica de los satelites.\n",
    "\n"
   ]
  },
  {
   "cell_type": "code",
   "execution_count": 1,
   "metadata": {
    "scrolled": true
   },
   "outputs": [
    {
     "data": {
      "text/plain": [
       "44.943820224719104"
      ]
     },
     "execution_count": 1,
     "metadata": {},
     "output_type": "execute_result"
    }
   ],
   "source": [
    "import math\n",
    "\n",
    "ancho= 80 #[cm]\n",
    "alto= 89 #[cm]\n",
    "prof=8 #[cm]\n",
    "\n",
    "DistF= (ancho**3)/(16*prof*alto)\n",
    "DistF #[cm]\n",
    "\n"
   ]
  },
  {
   "cell_type": "code",
   "execution_count": 2,
   "metadata": {},
   "outputs": [
    {
     "data": {
      "text/plain": [
       "43.820224719101134"
      ]
     },
     "execution_count": 2,
     "metadata": {},
     "output_type": "execute_result"
    }
   ],
   "source": [
    "a= 2*DistF*((((alto/2)/(ancho/2))**2)-1)**0.5\n",
    "a #[cm]"
   ]
  },
  {
   "cell_type": "code",
   "execution_count": 3,
   "metadata": {},
   "outputs": [
    {
     "data": {
      "text/plain": [
       "84.025"
      ]
     },
     "execution_count": 3,
     "metadata": {},
     "output_type": "execute_result"
    }
   ],
   "source": [
    "d1= (((a+(ancho/2))**2)/(4*DistF))+DistF \n",
    "d1 #[cm]"
   ]
  },
  {
   "cell_type": "code",
   "execution_count": 4,
   "metadata": {},
   "outputs": [
    {
     "data": {
      "text/plain": [
       "45.025000000000006"
      ]
     },
     "execution_count": 4,
     "metadata": {},
     "output_type": "execute_result"
    }
   ],
   "source": [
    "d2= ((((a-(ancho/2))**2))/(4*DistF))+DistF\n",
    "d2 #[cm]"
   ]
  },
  {
   "cell_type": "code",
   "execution_count": 5,
   "metadata": {},
   "outputs": [
    {
     "data": {
      "text/plain": [
       "25.989233583833013"
      ]
     },
     "execution_count": 5,
     "metadata": {},
     "output_type": "execute_result"
    }
   ],
   "source": [
    "AnguloOffset= math.acos(ancho/alto) \n",
    "math.degrees(AnguloOffset) #[grados]"
   ]
  },
  {
   "cell_type": "code",
   "execution_count": 6,
   "metadata": {},
   "outputs": [
    {
     "data": {
      "text/plain": [
       "81.13186312404079"
      ]
     },
     "execution_count": 6,
     "metadata": {},
     "output_type": "execute_result"
    }
   ],
   "source": [
    "LP= (math.acos((2*DistF/d1)-1))-(math.acos((2*DistF/d2)-1))\n",
    "math.degrees(LP) #[grados]\n"
   ]
  },
  {
   "cell_type": "code",
   "execution_count": 7,
   "metadata": {},
   "outputs": [
    {
     "data": {
      "text/plain": [
       "45.43314376346065"
      ]
     },
     "execution_count": 7,
     "metadata": {},
     "output_type": "execute_result"
    }
   ],
   "source": [
    "LI= 0.5*((math.acos((2*DistF/d1)-1))+(math.acos((2*DistF/d2)-1)))\n",
    "math.degrees(LI) #[grados]\n"
   ]
  },
  {
   "cell_type": "code",
   "execution_count": 8,
   "metadata": {},
   "outputs": [
    {
     "data": {
      "text/plain": [
       "0.6764558212445584"
      ]
     },
     "execution_count": 8,
     "metadata": {},
     "output_type": "execute_result"
    }
   ],
   "source": [
    "FD= 1/(4 * math.tan(0.5*LP/2))\n",
    "FD "
   ]
  },
  {
   "cell_type": "code",
   "execution_count": 9,
   "metadata": {},
   "outputs": [
    {
     "data": {
      "text/plain": [
       "2.1875"
      ]
     },
     "execution_count": 9,
     "metadata": {},
     "output_type": "execute_result"
    }
   ],
   "source": [
    "LAp= 175/ancho #ancho es debido a que es el diametro menor\n",
    "LAp \n"
   ]
  },
  {
   "cell_type": "markdown",
   "metadata": {},
   "source": [
    "Acabamos de realizar el código para encontrar los diferentes parametros geometricos del reflector offset anterior. \n",
    "\n",
    "\n",
    "# ACTIVIDAD A REALIZAR B:\n",
    "\n",
    "El alumno subirá todo el material a la cubierta. Preparará un cable coaxial de 75 Ohm\n",
    "de impedancia con un conector tipo F macho y otro CEI macho\n",
    "\n",
    "<img src='conectorm.jpg'>\n",
    "\n",
    "Conectores para preparar el cableado que une el LNB con el medidor de campo\n",
    "\n",
    "<img src='conectore.jpg'>\n",
    "\n",
    "Conector de entrada de señal del Medidor de Campo TV-CATV-SAT UnaOhm EP207+\n",
    "\n",
    "## Hispasat y Astra:\n",
    "Debemos conectarnos a los satelites Hispasat 3W y Astra 19,2E en la ciudad de granda. \n",
    "guiandonos por la siguiente tabla \n",
    "\n",
    "\n",
    "<img src='orientacion.jpg'>\n",
    "\n",
    "se puede apreciar que debemos orientar la antena para el:\n",
    "\n",
    "# Astra 19,2 E \n",
    "\n",
    "- **Azimut**= +34.8\n",
    "\n",
    "- **Elevación**= 40.2 grados \n",
    "\n",
    "# Hispasat 30W\n",
    "\n",
    "- **Azimut**= -39.4 W o 219\n",
    "\n",
    "- **Elevación**= 38.8 grados \n",
    "\n",
    "Estando en la cubierta, me he ayudado a direccionar la antena con una aplicación móvil que me guía como una brujula en que direccíon debo poner la antena. \n",
    "\n",
    "**Nota=** *la aplicación que uso se llama satelite finder y hay que calibrar debidamente el gps de nuestro celular, tambien es importante saber que no funciona correctamente si lo acercas a objetos metalicos. No colocar cerca a la antena, es una herramienta para poder guiarnos.* \n",
    "\n",
    "<img src='Astra19.jpeg'><img src='Hispasat30.jpeg'>\n",
    "\n",
    "\n",
    "\n",
    "Aqui comparto un video en la cubierta cuando movemos la antena que estaba recibiendo la señal del Astra19,2 E y la posicionamos para comunicarnos con el Hispasat. Aquí digo que quedó conectado, pero es sarcasticamente, posteriormente se debio sintonizar la antena en la configuración correcta. "
   ]
  },
  {
   "cell_type": "code",
   "execution_count": 10,
   "metadata": {},
   "outputs": [
    {
     "name": "stderr",
     "output_type": "stream",
     "text": [
      "D:\\Users\\Usuario\\anaconda3\\lib\\site-packages\\IPython\\core\\display.py:717: UserWarning: Consider using IPython.display.IFrame instead\n",
      "  warnings.warn(\"Consider using IPython.display.IFrame instead\")\n"
     ]
    },
    {
     "data": {
      "text/html": [
       "<iframe width=\"560\" height=\"315\" src=\"https://www.youtube.com/embed/Pr7XmfRuqq4\" title=\"YouTube video player\" frameborder=\"0\" allow=\"accelerometer; autoplay; clipboard-write; encrypted-media; gyroscope; picture-in-picture\" allowfullscreen></iframe>"
      ],
      "text/plain": [
       "<IPython.core.display.HTML object>"
      ]
     },
     "execution_count": 10,
     "metadata": {},
     "output_type": "execute_result"
    }
   ],
   "source": [
    "from IPython.display import HTML\n",
    "\n",
    "# Youtube\n",
    "HTML('<iframe width=\"560\" height=\"315\" src=\"https://www.youtube.com/embed/Pr7XmfRuqq4\" title=\"YouTube video player\" frameborder=\"0\" allow=\"accelerometer; autoplay; clipboard-write; encrypted-media; gyroscope; picture-in-picture\" allowfullscreen></iframe>')"
   ]
  },
  {
   "cell_type": "markdown",
   "metadata": {},
   "source": [
    "Para usar el medidor de campo es importante conocer los parametros que necesitamos saber de los canales provenientes del satelite como la frecuencia (si es mayor a 10700 se debe ajustar , Lo Hz, configuración vertical o Horizontal. \n",
    "\n",
    "por ejemplo para el Astra 19,2 E\n",
    "\n",
    "**Canal SWR Fersehen BW**\n",
    "\n",
    "- frecuencia: 11836 MHz (es > 11700) se debe configurar: \n",
    "  - Lo = 10.600 MHz\n",
    "  - DSQ 22KHz ON\n",
    "- H:  horizontal alimentando a  18 V\n",
    "\n",
    "**Canal Genius plus**\n",
    "\n",
    "- frecuencia: 10773 MHz (es < 11700) se debe configurar: \n",
    "  - Lo = 9.750 MHz\n",
    "  - DSQ 22KHz OFF\n",
    "- H:  horizontal alimentando a  18 V\n",
    "\n",
    "**Algunos canales de Hispasat30W**\n",
    "\n",
    "<img src='canaleshispasat.jpg'>\n",
    "\n",
    "\n",
    "Fue necesario leer repetidamente el manual del medidor de Campo EP131 para configurar los paramentros y posteriormente recibir la señal del satelite. \n",
    "<img src='medir.jpg'>\n",
    "<img src='señal.jpg'>\n",
    "\n",
    "# Potencia: \n",
    "\n",
    "La potencia que lograbamos obtener de los satelites era en promedio entre 60-70 DbuV que podemos observar en el dispositivo, Su función es mostrar la potencia de la señal respecto al canal que estamos intentando recibir con el medidor de campo\n",
    "\n",
    "<img src='70db.jpg'>\n",
    "<img src='60db.jpg'>\n",
    "\n",
    "Aqui podemos observar como movemos la antena poco a poco para adquirir la mayor potencia. el dispositivo aumenta sus dB acorde a más potencia recibe la señal. el sonido particular entre más agudo y fuerte nos indica que estamos ubicando mejor la antena hacia el satelite. \n",
    "\n",
    "# Videos \n",
    "\n",
    "## Conectando a Hispasat y Astra"
   ]
  },
  {
   "cell_type": "code",
   "execution_count": 11,
   "metadata": {},
   "outputs": [
    {
     "data": {
      "text/html": [
       "<iframe width=\"560\" height=\"315\" src=\"https://www.youtube.com/embed/RRX6X0ID5Yo\" title=\"YouTube video player\" frameborder=\"0\" allow=\"accelerometer; autoplay; clipboard-write; encrypted-media; gyroscope; picture-in-picture\" allowfullscreen></iframe>"
      ],
      "text/plain": [
       "<IPython.core.display.HTML object>"
      ]
     },
     "execution_count": 11,
     "metadata": {},
     "output_type": "execute_result"
    }
   ],
   "source": [
    "from IPython.display import HTML\n",
    "\n",
    "# Youtube\n",
    "HTML('<iframe width=\"560\" height=\"315\" src=\"https://www.youtube.com/embed/RRX6X0ID5Yo\" title=\"YouTube video player\" frameborder=\"0\" allow=\"accelerometer; autoplay; clipboard-write; encrypted-media; gyroscope; picture-in-picture\" allowfullscreen></iframe>')\n",
    "\n"
   ]
  },
  {
   "cell_type": "code",
   "execution_count": 12,
   "metadata": {},
   "outputs": [
    {
     "data": {
      "text/html": [
       "<iframe width=\"560\" height=\"315\" src=\"https://www.youtube.com/embed/xQnGa3A39I4\" title=\"YouTube video player\" frameborder=\"0\" allow=\"accelerometer; autoplay; clipboard-write; encrypted-media; gyroscope; picture-in-picture\" allowfullscreen></iframe>"
      ],
      "text/plain": [
       "<IPython.core.display.HTML object>"
      ]
     },
     "execution_count": 12,
     "metadata": {},
     "output_type": "execute_result"
    }
   ],
   "source": [
    "from IPython.display import HTML\n",
    "\n",
    "# Youtube\n",
    "HTML('<iframe width=\"560\" height=\"315\" src=\"https://www.youtube.com/embed/xQnGa3A39I4\" title=\"YouTube video player\" frameborder=\"0\" allow=\"accelerometer; autoplay; clipboard-write; encrypted-media; gyroscope; picture-in-picture\" allowfullscreen></iframe>')"
   ]
  },
  {
   "cell_type": "code",
   "execution_count": 13,
   "metadata": {},
   "outputs": [
    {
     "data": {
      "text/html": [
       "<iframe width=\"560\" height=\"315\" src=\"https://www.youtube.com/embed/MslwuKtDhIo\" title=\"YouTube video player\" frameborder=\"0\" allow=\"accelerometer; autoplay; clipboard-write; encrypted-media; gyroscope; picture-in-picture\" allowfullscreen></iframe>"
      ],
      "text/plain": [
       "<IPython.core.display.HTML object>"
      ]
     },
     "execution_count": 13,
     "metadata": {},
     "output_type": "execute_result"
    }
   ],
   "source": [
    "from IPython.display import HTML\n",
    "\n",
    "# Youtube\n",
    "HTML('<iframe width=\"560\" height=\"315\" src=\"https://www.youtube.com/embed/MslwuKtDhIo\" title=\"YouTube video player\" frameborder=\"0\" allow=\"accelerometer; autoplay; clipboard-write; encrypted-media; gyroscope; picture-in-picture\" allowfullscreen></iframe>')"
   ]
  },
  {
   "cell_type": "code",
   "execution_count": null,
   "metadata": {},
   "outputs": [],
   "source": []
  }
 ],
 "metadata": {
  "kernelspec": {
   "display_name": "Python 3",
   "language": "python",
   "name": "python3"
  },
  "language_info": {
   "codemirror_mode": {
    "name": "ipython",
    "version": 3
   },
   "file_extension": ".py",
   "mimetype": "text/x-python",
   "name": "python",
   "nbconvert_exporter": "python",
   "pygments_lexer": "ipython3",
   "version": "3.8.3"
  }
 },
 "nbformat": 4,
 "nbformat_minor": 4
}
