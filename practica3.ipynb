{
 "cells": [
  {
   "cell_type": "markdown",
   "metadata": {},
   "source": [
    "# MI PRIMER CUADERNO\n",
    "## Este sera mi hermoso cuaderno divino\n",
    "### este es el sub sub sub sub titulo\n",
    "\n",
    "entre lo que haremos se encuentra:\n",
    "- vamos a hacer analisis de sentimientos\n",
    "- jorge es **hermoso** y nadie lo puede negar\n",
    "- aqui agrego tambien una *imagen* que yo quiera\n",
    "\n",
    "<img src='antena.jpg'>\n"
   ]
  },
  {
   "cell_type": "code",
   "execution_count": 1,
   "metadata": {},
   "outputs": [
    {
     "name": "stdout",
     "output_type": "stream",
     "text": [
      "este bloque es 1\n"
     ]
    }
   ],
   "source": [
    "#hola! \n",
    "print(\"este bloque es 1\")\n",
    "x = 10"
   ]
  },
  {
   "cell_type": "code",
   "execution_count": 2,
   "metadata": {},
   "outputs": [
    {
     "name": "stdout",
     "output_type": "stream",
     "text": [
      "este es el bloque 2\n",
      "variable X: 10\n"
     ]
    }
   ],
   "source": [
    "print(\"este es el bloque 2\")\n",
    "print(\"variable X:\", x)"
   ]
  },
  {
   "cell_type": "code",
   "execution_count": null,
   "metadata": {},
   "outputs": [],
   "source": []
  },
  {
   "cell_type": "code",
   "execution_count": null,
   "metadata": {},
   "outputs": [],
   "source": []
  }
 ],
 "metadata": {
  "kernelspec": {
   "display_name": "Python 3",
   "language": "python",
   "name": "python3"
  },
  "language_info": {
   "codemirror_mode": {
    "name": "ipython",
    "version": 3
   },
   "file_extension": ".py",
   "mimetype": "text/x-python",
   "name": "python",
   "nbconvert_exporter": "python",
   "pygments_lexer": "ipython3",
   "version": "3.8.3"
  }
 },
 "nbformat": 4,
 "nbformat_minor": 4
}
